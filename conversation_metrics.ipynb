{
  "nbformat": 4,
  "nbformat_minor": 0,
  "metadata": {
    "colab": {
      "provenance": [],
      "authorship_tag": "ABX9TyNjjsDJqjvu0eofZf2ykfpc",
      "include_colab_link": true
    },
    "kernelspec": {
      "name": "python3",
      "display_name": "Python 3"
    },
    "language_info": {
      "name": "python"
    }
  },
  "cells": [
    {
      "cell_type": "markdown",
      "metadata": {
        "id": "view-in-github",
        "colab_type": "text"
      },
      "source": [
        "<a href=\"https://colab.research.google.com/github/albertiny98/conversation-metrics/blob/main/conversation_metrics.ipynb\" target=\"_parent\"><img src=\"https://colab.research.google.com/assets/colab-badge.svg\" alt=\"Open In Colab\"/></a>"
      ]
    },
    {
      "cell_type": "code",
      "execution_count": null,
      "metadata": {
        "id": "13nsbyHRWWBb"
      },
      "outputs": [],
      "source": [
        "import re\n",
        "import tiktoken\n",
        "\n",
        "# Configure the GPT tokenizer (e.g., GPT-3.5 or GPT-4; change the model as needed)\n",
        "encoding = tiktoken.encoding_for_model(\"gpt-3.5-turbo\")\n",
        "\n",
        "def count_words(text):\n",
        "    # Count words as sequences of letters or digits\n",
        "    return len(re.findall(r'\\b\\w+\\b', text))\n",
        "\n",
        "def count_tokens(text):\n",
        "    # Compute the number of GPT tokens using tiktoken\n",
        "    return len(encoding.encode(text))\n",
        "\n",
        "def analyze_conversation(file_path):\n",
        "    results = []\n",
        "    with open(file_path, \"r\", encoding=\"utf-8\") as f:\n",
        "        for line_number, line in enumerate(f, 1):\n",
        "            msg = line.strip()\n",
        "            char_count = len(msg)\n",
        "            word_count = count_words(msg)\n",
        "            token_count = count_tokens(msg)\n",
        "            results.append({\n",
        "                \"line\": line_number,\n",
        "                \"message\": msg,\n",
        "                \"characters\": char_count,\n",
        "                \"words\": word_count,\n",
        "                \"tokens\": token_count\n",
        "            })\n",
        "    return results\n",
        "\n",
        "# Example usage\n",
        "if __name__ == \"__main__\":\n",
        "    input_file = \"conversation.txt\"  # Change to your input file name\n",
        "    metrics = analyze_conversation(input_file)\n",
        "    for item in metrics:\n",
        "        print(f\"Line {item['line']}: {item['characters']} chars, {item['words']} words, {item['tokens']} tokens\")\n"
      ]
    }
  ]
}